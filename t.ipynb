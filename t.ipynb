{
 "cells": [
  {
   "cell_type": "code",
   "execution_count": 4,
   "metadata": {},
   "outputs": [
    {
     "name": "stdout",
     "output_type": "stream",
     "text": [
      "Defaulting to user installation because normal site-packages is not writeable\n",
      "\u001b[33mDEPRECATION: Loading egg at /usr/local/lib/python3.11/dist-packages/PyBluez-0.30-py3.11-linux-x86_64.egg is deprecated. pip 24.3 will enforce this behaviour change. A possible replacement is to use pip for package installation.. Discussion can be found at https://github.com/pypa/pip/issues/12330\u001b[0m\u001b[33m\n",
      "\u001b[0mRequirement already satisfied: pip in /usr/lib/python3/dist-packages (24.0)\n"
     ]
    }
   ],
   "source": [
    "!pip install pip\n"
   ]
  },
  {
   "cell_type": "code",
   "execution_count": 2,
   "metadata": {},
   "outputs": [
    {
     "name": "stdout",
     "output_type": "stream",
     "text": [
      "Defaulting to user installation because normal site-packages is not writeable\n",
      "\u001b[33mDEPRECATION: Loading egg at /usr/local/lib/python3.11/dist-packages/PyBluez-0.30-py3.11-linux-x86_64.egg is deprecated. pip 24.3 will enforce this behaviour change. A possible replacement is to use pip for package installation.. Discussion can be found at https://github.com/pypa/pip/issues/12330\u001b[0m\u001b[33m\n",
      "\u001b[0mCollecting pyjwt\n",
      "  Downloading PyJWT-2.8.0-py3-none-any.whl.metadata (4.2 kB)\n",
      "Downloading PyJWT-2.8.0-py3-none-any.whl (22 kB)\n",
      "Installing collected packages: pyjwt\n",
      "Successfully installed pyjwt-2.8.0\n"
     ]
    }
   ],
   "source": [
    "!pip install pyjwt\n"
   ]
  },
  {
   "cell_type": "code",
   "execution_count": 1,
   "metadata": {},
   "outputs": [
    {
     "name": "stdout",
     "output_type": "stream",
     "text": [
      "Defaulting to user installation because normal site-packages is not writeable\n",
      "\u001b[33mDEPRECATION: Loading egg at /usr/local/lib/python3.11/dist-packages/PyBluez-0.30-py3.11-linux-x86_64.egg is deprecated. pip 24.3 will enforce this behaviour change. A possible replacement is to use pip for package installation.. Discussion can be found at https://github.com/pypa/pip/issues/12330\u001b[0m\u001b[33m\n",
      "\u001b[0mCollecting django-ses\n",
      "  Downloading django_ses-4.1.0-py3-none-any.whl.metadata (25 kB)\n",
      "Collecting boto3>=1.0.0 (from django-ses)\n",
      "  Downloading boto3-1.34.140-py3-none-any.whl.metadata (6.6 kB)\n",
      "Requirement already satisfied: django>=3.2 in /home/kgma/.local/lib/python3.11/site-packages (from django-ses) (5.0.6)\n",
      "Requirement already satisfied: pytz>=2016.10 in /usr/lib/python3/dist-packages (from django-ses) (2024.1)\n",
      "Collecting botocore<1.35.0,>=1.34.140 (from boto3>=1.0.0->django-ses)\n",
      "  Downloading botocore-1.34.140-py3-none-any.whl.metadata (5.7 kB)\n",
      "Collecting jmespath<2.0.0,>=0.7.1 (from boto3>=1.0.0->django-ses)\n",
      "  Downloading jmespath-1.0.1-py3-none-any.whl.metadata (7.6 kB)\n",
      "Collecting s3transfer<0.11.0,>=0.10.0 (from boto3>=1.0.0->django-ses)\n",
      "  Downloading s3transfer-0.10.2-py3-none-any.whl.metadata (1.7 kB)\n",
      "Requirement already satisfied: asgiref<4,>=3.7.0 in /usr/lib/python3/dist-packages (from django>=3.2->django-ses) (3.8.1)\n",
      "Requirement already satisfied: sqlparse>=0.3.1 in /home/kgma/.local/lib/python3.11/site-packages (from django>=3.2->django-ses) (0.5.0)\n",
      "Requirement already satisfied: python-dateutil<3.0.0,>=2.1 in /home/kgma/.local/lib/python3.11/site-packages (from botocore<1.35.0,>=1.34.140->boto3>=1.0.0->django-ses) (2.8.2)\n",
      "Requirement already satisfied: urllib3!=2.2.0,<3,>=1.25.4 in /usr/lib/python3/dist-packages (from botocore<1.35.0,>=1.34.140->boto3>=1.0.0->django-ses) (1.26.18)\n",
      "Requirement already satisfied: six>=1.5 in /home/kgma/.local/lib/python3.11/site-packages (from python-dateutil<3.0.0,>=2.1->botocore<1.35.0,>=1.34.140->boto3>=1.0.0->django-ses) (1.16.0)\n",
      "Downloading django_ses-4.1.0-py3-none-any.whl (29 kB)\n",
      "Downloading boto3-1.34.140-py3-none-any.whl (139 kB)\n",
      "\u001b[2K   \u001b[90m━━━━━━━━━━━━━━━━━━━━━━━━━━━━━━━━━━━━━━━\u001b[0m \u001b[32m139.2/139.2 kB\u001b[0m \u001b[31m443.7 kB/s\u001b[0m eta \u001b[36m0:00:00\u001b[0ma \u001b[36m0:00:01\u001b[0m\n",
      "\u001b[?25hDownloading botocore-1.34.140-py3-none-any.whl (12.4 MB)\n",
      "\u001b[2K   \u001b[90m━━━━━━━━━━━━━━━━━━━━━━━━━━━━━━━━━━━━━━━━\u001b[0m \u001b[32m12.4/12.4 MB\u001b[0m \u001b[31m2.0 MB/s\u001b[0m eta \u001b[36m0:00:00\u001b[0m00:01\u001b[0m00:01\u001b[0mm\n",
      "\u001b[?25hDownloading jmespath-1.0.1-py3-none-any.whl (20 kB)\n",
      "Downloading s3transfer-0.10.2-py3-none-any.whl (82 kB)\n",
      "\u001b[2K   \u001b[90m━━━━━━━━━━━━━━━━━━━━━━━━━━━━━━━━━━━━━━━━\u001b[0m \u001b[32m82.7/82.7 kB\u001b[0m \u001b[31m5.9 MB/s\u001b[0m eta \u001b[36m0:00:00\u001b[0m\n",
      "\u001b[?25hInstalling collected packages: jmespath, botocore, s3transfer, boto3, django-ses\n",
      "Successfully installed boto3-1.34.140 botocore-1.34.140 django-ses-4.1.0 jmespath-1.0.1 s3transfer-0.10.2\n",
      "Note: you may need to restart the kernel to use updated packages.\n"
     ]
    }
   ],
   "source": [
    "%pip install django-ses\n",
    "\n",
    "#ZAQ6VFWQF1A8RRMVZ9E9CU6L recovery code for my sendgrid account"
   ]
  },
  {
   "cell_type": "code",
   "execution_count": 1,
   "metadata": {},
   "outputs": [
    {
     "name": "stdout",
     "output_type": "stream",
     "text": [
      "Defaulting to user installation because normal site-packages is not writeable\n",
      "\u001b[33mDEPRECATION: Loading egg at /usr/local/lib/python3.11/dist-packages/PyBluez-0.30-py3.11-linux-x86_64.egg is deprecated. pip 24.3 will enforce this behaviour change. A possible replacement is to use pip for package installation.. Discussion can be found at https://github.com/pypa/pip/issues/12330\u001b[0m\u001b[33m\n",
      "\u001b[0mCollecting sendgrid-django\n",
      "  Downloading sendgrid-django-4.2.0.tar.gz (5.0 kB)\n",
      "  Preparing metadata (setup.py) ... \u001b[?25ldone\n",
      "\u001b[?25hCollecting sendgrid<4,>=3.5 (from sendgrid-django)\n",
      "  Downloading sendgrid-3.6.5-py2.py3-none-any.whl.metadata (9.0 kB)\n",
      "Collecting python-http-client>=2.1.1 (from sendgrid<4,>=3.5->sendgrid-django)\n",
      "  Downloading python_http_client-3.3.7-py3-none-any.whl.metadata (6.9 kB)\n",
      "Downloading sendgrid-3.6.5-py2.py3-none-any.whl (27 kB)\n",
      "Downloading python_http_client-3.3.7-py3-none-any.whl (8.4 kB)\n",
      "Building wheels for collected packages: sendgrid-django\n",
      "  Building wheel for sendgrid-django (setup.py) ... \u001b[?25ldone\n",
      "\u001b[?25h  Created wheel for sendgrid-django: filename=sendgrid_django-4.2.0-py2.py3-none-any.whl size=5513 sha256=3c93fd4523526fab9b6bbd944407f05cccee70e50bcc19e5cec38f2444159608\n",
      "  Stored in directory: /home/kgma/.cache/pip/wheels/00/d8/36/c8bc8ed5cb648e8461ce5f1c74bc469a12729bf5bf3e913b22\n",
      "Successfully built sendgrid-django\n",
      "Installing collected packages: python-http-client, sendgrid, sendgrid-django\n",
      "Successfully installed python-http-client-3.3.7 sendgrid-3.6.5 sendgrid-django-4.2.0\n",
      "Note: you may need to restart the kernel to use updated packages.\n"
     ]
    }
   ],
   "source": [
    "%pip install sendgrid-django"
   ]
  }
 ],
 "metadata": {
  "kernelspec": {
   "display_name": "Python 3",
   "language": "python",
   "name": "python3"
  },
  "language_info": {
   "codemirror_mode": {
    "name": "ipython",
    "version": 3
   },
   "file_extension": ".py",
   "mimetype": "text/x-python",
   "name": "python",
   "nbconvert_exporter": "python",
   "pygments_lexer": "ipython3",
   "version": "3.11.9"
  }
 },
 "nbformat": 4,
 "nbformat_minor": 2
}
