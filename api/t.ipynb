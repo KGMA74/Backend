{
 "cells": [
  {
   "cell_type": "code",
   "execution_count": 1,
   "metadata": {},
   "outputs": [
    {
     "name": "stdout",
     "output_type": "stream",
     "text": [
      "Defaulting to user installation because normal site-packages is not writeable\n",
      "\u001b[33mDEPRECATION: Loading egg at /usr/local/lib/python3.11/dist-packages/PyBluez-0.30-py3.11-linux-x86_64.egg is deprecated. pip 24.3 will enforce this behaviour change. A possible replacement is to use pip for package installation.. Discussion can be found at https://github.com/pypa/pip/issues/12330\u001b[0m\u001b[33m\n",
      "\u001b[0mCollecting social-auth-app-django\n",
      "\u001b[33m  WARNING: Retrying (Retry(total=4, connect=None, read=None, redirect=None, status=None)) after connection broken by 'NewConnectionError('<pip._vendor.urllib3.connection.HTTPSConnection object at 0x7fbfdf2a1bd0>: Failed to establish a new connection: [Errno -2] Name or service not known')': /packages/61/e3/60318a13a5d58daa0b37eb2b8b0bada5a9d5725efb407358cebedbcc0ada/social_auth_app_django-5.4.1-py3-none-any.whl.metadata\u001b[0m\u001b[33m\n",
      "\u001b[0m\u001b[33m  WARNING: Retrying (Retry(total=3, connect=None, read=None, redirect=None, status=None)) after connection broken by 'NewConnectionError('<pip._vendor.urllib3.connection.HTTPSConnection object at 0x7fbfdf2a2210>: Failed to establish a new connection: [Errno -2] Name or service not known')': /packages/61/e3/60318a13a5d58daa0b37eb2b8b0bada5a9d5725efb407358cebedbcc0ada/social_auth_app_django-5.4.1-py3-none-any.whl.metadata\u001b[0m\u001b[33m\n",
      "\u001b[0m\u001b[33m  WARNING: Retrying (Retry(total=2, connect=None, read=None, redirect=None, status=None)) after connection broken by 'NewConnectionError('<pip._vendor.urllib3.connection.HTTPSConnection object at 0x7fbfdf2a29d0>: Failed to establish a new connection: [Errno -2] Name or service not known')': /packages/61/e3/60318a13a5d58daa0b37eb2b8b0bada5a9d5725efb407358cebedbcc0ada/social_auth_app_django-5.4.1-py3-none-any.whl.metadata\u001b[0m\u001b[33m\n",
      "\u001b[0m  Downloading social_auth_app_django-5.4.1-py3-none-any.whl.metadata (3.2 kB)\n",
      "Requirement already satisfied: Django>=3.2 in /home/kgma/.local/lib/python3.11/site-packages (from social-auth-app-django) (5.0.6)\n",
      "Collecting social-auth-core>=4.4.1 (from social-auth-app-django)\n",
      "  Downloading social_auth_core-4.5.4-py3-none-any.whl.metadata (4.1 kB)\n",
      "Requirement already satisfied: asgiref<4,>=3.7.0 in /usr/lib/python3/dist-packages (from Django>=3.2->social-auth-app-django) (3.8.1)\n",
      "Requirement already satisfied: sqlparse>=0.3.1 in /home/kgma/.local/lib/python3.11/site-packages (from Django>=3.2->social-auth-app-django) (0.5.0)\n",
      "Requirement already satisfied: requests>=2.9.1 in /usr/lib/python3/dist-packages (from social-auth-core>=4.4.1->social-auth-app-django) (2.31.0)\n",
      "Collecting oauthlib>=1.0.3 (from social-auth-core>=4.4.1->social-auth-app-django)\n",
      "  Downloading oauthlib-3.2.2-py3-none-any.whl.metadata (7.5 kB)\n",
      "Requirement already satisfied: requests-oauthlib>=0.6.1 in /home/kgma/.local/lib/python3.11/site-packages (from social-auth-core>=4.4.1->social-auth-app-django) (1.3.1)\n",
      "Requirement already satisfied: PyJWT>=2.7.0 in /home/kgma/.local/lib/python3.11/site-packages (from social-auth-core>=4.4.1->social-auth-app-django) (2.8.0)\n",
      "Requirement already satisfied: cryptography>=1.4 in /usr/lib/python3/dist-packages (from social-auth-core>=4.4.1->social-auth-app-django) (42.0.5)\n",
      "Collecting defusedxml>=0.5.0rc1 (from social-auth-core>=4.4.1->social-auth-app-django)\n",
      "  Downloading defusedxml-0.8.0rc2-py2.py3-none-any.whl.metadata (33 kB)\n",
      "Collecting python3-openid>=3.0.10 (from social-auth-core>=4.4.1->social-auth-app-django)\n",
      "  Downloading python3_openid-3.2.0-py3-none-any.whl.metadata (1.6 kB)\n",
      "Downloading social_auth_app_django-5.4.1-py3-none-any.whl (26 kB)\n",
      "Downloading social_auth_core-4.5.4-py3-none-any.whl (410 kB)\n",
      "\u001b[2K   \u001b[90m━━━━━━━━━━━━━━━━━━━━━━━━━━━━━━━━━━━━━━━\u001b[0m \u001b[32m410.2/410.2 kB\u001b[0m \u001b[31m710.6 kB/s\u001b[0m eta \u001b[36m0:00:00\u001b[0ma \u001b[36m0:00:01\u001b[0m\n",
      "\u001b[?25hDownloading defusedxml-0.8.0rc2-py2.py3-none-any.whl (25 kB)\n",
      "Downloading oauthlib-3.2.2-py3-none-any.whl (151 kB)\n",
      "\u001b[2K   \u001b[90m━━━━━━━━━━━━━━━━━━━━━━━━━━━━━━━━━━━━━━━━\u001b[0m \u001b[32m151.7/151.7 kB\u001b[0m \u001b[31m3.3 MB/s\u001b[0m eta \u001b[36m0:00:00\u001b[0mta \u001b[36m0:00:01\u001b[0m\n",
      "\u001b[?25hDownloading python3_openid-3.2.0-py3-none-any.whl (133 kB)\n",
      "\u001b[2K   \u001b[90m━━━━━━━━━━━━━━━━━━━━━━━━━━━━━━━━━━━━━━━━\u001b[0m \u001b[32m133.7/133.7 kB\u001b[0m \u001b[31m2.8 MB/s\u001b[0m eta \u001b[36m0:00:00\u001b[0m00:01\u001b[0m\n",
      "\u001b[?25hInstalling collected packages: oauthlib, defusedxml, python3-openid, social-auth-core, social-auth-app-django\n",
      "Successfully installed defusedxml-0.8.0rc2 oauthlib-3.2.2 python3-openid-3.2.0 social-auth-app-django-5.4.1 social-auth-core-4.5.4\n"
     ]
    }
   ],
   "source": [
    "! pip install -U social-auth-app-django\n"
   ]
  },
  {
   "cell_type": "code",
   "execution_count": 1,
   "metadata": {},
   "outputs": [
    {
     "name": "stdout",
     "output_type": "stream",
     "text": [
      "Defaulting to user installation because normal site-packages is not writeable\n",
      "\u001b[33mDEPRECATION: Loading egg at /usr/local/lib/python3.11/dist-packages/PyBluez-0.30-py3.11-linux-x86_64.egg is deprecated. pip 24.3 will enforce this behaviour change. A possible replacement is to use pip for package installation.. Discussion can be found at https://github.com/pypa/pip/issues/12330\u001b[0m\u001b[33m\n",
      "\u001b[0mRequirement already satisfied: djoser in /home/kgma/.local/lib/python3.11/site-packages (2.2.3)\n",
      "Requirement already satisfied: django>=3.0.0 in /home/kgma/.local/lib/python3.11/site-packages (from djoser) (5.0.6)\n",
      "Requirement already satisfied: django-templated-mail<2.0.0,>=1.1.1 in /home/kgma/.local/lib/python3.11/site-packages (from djoser) (1.1.1)\n",
      "Requirement already satisfied: djangorestframework-simplejwt<6.0,>=5.0 in /home/kgma/.local/lib/python3.11/site-packages (from djoser) (5.3.1)\n",
      "Requirement already satisfied: social-auth-app-django<6.0.0,>=5.0.0 in /home/kgma/.local/lib/python3.11/site-packages (from djoser) (5.4.1)\n",
      "Requirement already satisfied: asgiref<4,>=3.7.0 in /usr/lib/python3/dist-packages (from django>=3.0.0->djoser) (3.8.1)\n",
      "Requirement already satisfied: sqlparse>=0.3.1 in /home/kgma/.local/lib/python3.11/site-packages (from django>=3.0.0->djoser) (0.5.0)\n",
      "Requirement already satisfied: djangorestframework>=3.12 in /home/kgma/.local/lib/python3.11/site-packages (from djangorestframework-simplejwt<6.0,>=5.0->djoser) (3.15.1)\n",
      "Requirement already satisfied: pyjwt<3,>=1.7.1 in /home/kgma/.local/lib/python3.11/site-packages (from djangorestframework-simplejwt<6.0,>=5.0->djoser) (2.8.0)\n",
      "Requirement already satisfied: social-auth-core>=4.4.1 in /home/kgma/.local/lib/python3.11/site-packages (from social-auth-app-django<6.0.0,>=5.0.0->djoser) (4.5.4)\n",
      "Requirement already satisfied: requests>=2.9.1 in /usr/lib/python3/dist-packages (from social-auth-core>=4.4.1->social-auth-app-django<6.0.0,>=5.0.0->djoser) (2.31.0)\n",
      "Requirement already satisfied: oauthlib>=1.0.3 in /home/kgma/.local/lib/python3.11/site-packages (from social-auth-core>=4.4.1->social-auth-app-django<6.0.0,>=5.0.0->djoser) (3.2.2)\n",
      "Requirement already satisfied: requests-oauthlib>=0.6.1 in /home/kgma/.local/lib/python3.11/site-packages (from social-auth-core>=4.4.1->social-auth-app-django<6.0.0,>=5.0.0->djoser) (1.3.1)\n",
      "Requirement already satisfied: cryptography>=1.4 in /usr/lib/python3/dist-packages (from social-auth-core>=4.4.1->social-auth-app-django<6.0.0,>=5.0.0->djoser) (42.0.5)\n",
      "Requirement already satisfied: defusedxml>=0.5.0rc1 in /home/kgma/.local/lib/python3.11/site-packages (from social-auth-core>=4.4.1->social-auth-app-django<6.0.0,>=5.0.0->djoser) (0.8.0rc2)\n",
      "Requirement already satisfied: python3-openid>=3.0.10 in /home/kgma/.local/lib/python3.11/site-packages (from social-auth-core>=4.4.1->social-auth-app-django<6.0.0,>=5.0.0->djoser) (3.2.0)\n",
      "Note: you may need to restart the kernel to use updated packages.\n"
     ]
    }
   ],
   "source": [
    "%pip install -U djoser"
   ]
  },
  {
   "cell_type": "code",
   "execution_count": null,
   "metadata": {},
   "outputs": [],
   "source": [
    "%pip install    "
   ]
  }
 ],
 "metadata": {
  "kernelspec": {
   "display_name": "Python 3",
   "language": "python",
   "name": "python3"
  },
  "language_info": {
   "codemirror_mode": {
    "name": "ipython",
    "version": 3
   },
   "file_extension": ".py",
   "mimetype": "text/x-python",
   "name": "python",
   "nbconvert_exporter": "python",
   "pygments_lexer": "ipython3",
   "version": "3.11.9"
  }
 },
 "nbformat": 4,
 "nbformat_minor": 2
}
